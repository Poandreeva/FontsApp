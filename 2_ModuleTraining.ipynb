{
 "cells": [
  {
   "cell_type": "code",
   "execution_count": 1,
   "id": "d5658de4",
   "metadata": {},
   "outputs": [
    {
     "data": {
      "text/html": [
       "<pre style=\"white-space:pre;overflow-x:auto;line-height:normal;font-family:Menlo,'DejaVu Sans Mono',consolas,'Courier New',monospace\"><span style=\"font-weight: bold\">Model: \"sequential\"</span>\n",
       "</pre>\n"
      ],
      "text/plain": [
       "\u001b[1mModel: \"sequential\"\u001b[0m\n"
      ]
     },
     "metadata": {},
     "output_type": "display_data"
    },
    {
     "data": {
      "text/html": [
       "<pre style=\"white-space:pre;overflow-x:auto;line-height:normal;font-family:Menlo,'DejaVu Sans Mono',consolas,'Courier New',monospace\">┏━━━━━━━━━━━━━━━━━━━━━━━━━━━━━━━━━┳━━━━━━━━━━━━━━━━━━━━━━━━┳━━━━━━━━━━━━━━━┓\n",
       "┃<span style=\"font-weight: bold\"> Layer (type)                    </span>┃<span style=\"font-weight: bold\"> Output Shape           </span>┃<span style=\"font-weight: bold\">       Param # </span>┃\n",
       "┡━━━━━━━━━━━━━━━━━━━━━━━━━━━━━━━━━╇━━━━━━━━━━━━━━━━━━━━━━━━╇━━━━━━━━━━━━━━━┩\n",
       "│ conv2d (<span style=\"color: #0087ff; text-decoration-color: #0087ff\">Conv2D</span>)                 │ (<span style=\"color: #00d7ff; text-decoration-color: #00d7ff\">None</span>, <span style=\"color: #00af00; text-decoration-color: #00af00\">26</span>, <span style=\"color: #00af00; text-decoration-color: #00af00\">26</span>, <span style=\"color: #00af00; text-decoration-color: #00af00\">32</span>)     │           <span style=\"color: #00af00; text-decoration-color: #00af00\">320</span> │\n",
       "├─────────────────────────────────┼────────────────────────┼───────────────┤\n",
       "│ max_pooling2d (<span style=\"color: #0087ff; text-decoration-color: #0087ff\">MaxPooling2D</span>)    │ (<span style=\"color: #00d7ff; text-decoration-color: #00d7ff\">None</span>, <span style=\"color: #00af00; text-decoration-color: #00af00\">13</span>, <span style=\"color: #00af00; text-decoration-color: #00af00\">13</span>, <span style=\"color: #00af00; text-decoration-color: #00af00\">32</span>)     │             <span style=\"color: #00af00; text-decoration-color: #00af00\">0</span> │\n",
       "├─────────────────────────────────┼────────────────────────┼───────────────┤\n",
       "│ dropout (<span style=\"color: #0087ff; text-decoration-color: #0087ff\">Dropout</span>)               │ (<span style=\"color: #00d7ff; text-decoration-color: #00d7ff\">None</span>, <span style=\"color: #00af00; text-decoration-color: #00af00\">13</span>, <span style=\"color: #00af00; text-decoration-color: #00af00\">13</span>, <span style=\"color: #00af00; text-decoration-color: #00af00\">32</span>)     │             <span style=\"color: #00af00; text-decoration-color: #00af00\">0</span> │\n",
       "├─────────────────────────────────┼────────────────────────┼───────────────┤\n",
       "│ flatten (<span style=\"color: #0087ff; text-decoration-color: #0087ff\">Flatten</span>)               │ (<span style=\"color: #00d7ff; text-decoration-color: #00d7ff\">None</span>, <span style=\"color: #00af00; text-decoration-color: #00af00\">5408</span>)           │             <span style=\"color: #00af00; text-decoration-color: #00af00\">0</span> │\n",
       "├─────────────────────────────────┼────────────────────────┼───────────────┤\n",
       "│ dense (<span style=\"color: #0087ff; text-decoration-color: #0087ff\">Dense</span>)                   │ (<span style=\"color: #00d7ff; text-decoration-color: #00d7ff\">None</span>, <span style=\"color: #00af00; text-decoration-color: #00af00\">128</span>)            │       <span style=\"color: #00af00; text-decoration-color: #00af00\">692,352</span> │\n",
       "├─────────────────────────────────┼────────────────────────┼───────────────┤\n",
       "│ dense_1 (<span style=\"color: #0087ff; text-decoration-color: #0087ff\">Dense</span>)                 │ (<span style=\"color: #00d7ff; text-decoration-color: #00d7ff\">None</span>, <span style=\"color: #00af00; text-decoration-color: #00af00\">15</span>)             │         <span style=\"color: #00af00; text-decoration-color: #00af00\">1,935</span> │\n",
       "└─────────────────────────────────┴────────────────────────┴───────────────┘\n",
       "</pre>\n"
      ],
      "text/plain": [
       "┏━━━━━━━━━━━━━━━━━━━━━━━━━━━━━━━━━┳━━━━━━━━━━━━━━━━━━━━━━━━┳━━━━━━━━━━━━━━━┓\n",
       "┃\u001b[1m \u001b[0m\u001b[1mLayer (type)                   \u001b[0m\u001b[1m \u001b[0m┃\u001b[1m \u001b[0m\u001b[1mOutput Shape          \u001b[0m\u001b[1m \u001b[0m┃\u001b[1m \u001b[0m\u001b[1m      Param #\u001b[0m\u001b[1m \u001b[0m┃\n",
       "┡━━━━━━━━━━━━━━━━━━━━━━━━━━━━━━━━━╇━━━━━━━━━━━━━━━━━━━━━━━━╇━━━━━━━━━━━━━━━┩\n",
       "│ conv2d (\u001b[38;5;33mConv2D\u001b[0m)                 │ (\u001b[38;5;45mNone\u001b[0m, \u001b[38;5;34m26\u001b[0m, \u001b[38;5;34m26\u001b[0m, \u001b[38;5;34m32\u001b[0m)     │           \u001b[38;5;34m320\u001b[0m │\n",
       "├─────────────────────────────────┼────────────────────────┼───────────────┤\n",
       "│ max_pooling2d (\u001b[38;5;33mMaxPooling2D\u001b[0m)    │ (\u001b[38;5;45mNone\u001b[0m, \u001b[38;5;34m13\u001b[0m, \u001b[38;5;34m13\u001b[0m, \u001b[38;5;34m32\u001b[0m)     │             \u001b[38;5;34m0\u001b[0m │\n",
       "├─────────────────────────────────┼────────────────────────┼───────────────┤\n",
       "│ dropout (\u001b[38;5;33mDropout\u001b[0m)               │ (\u001b[38;5;45mNone\u001b[0m, \u001b[38;5;34m13\u001b[0m, \u001b[38;5;34m13\u001b[0m, \u001b[38;5;34m32\u001b[0m)     │             \u001b[38;5;34m0\u001b[0m │\n",
       "├─────────────────────────────────┼────────────────────────┼───────────────┤\n",
       "│ flatten (\u001b[38;5;33mFlatten\u001b[0m)               │ (\u001b[38;5;45mNone\u001b[0m, \u001b[38;5;34m5408\u001b[0m)           │             \u001b[38;5;34m0\u001b[0m │\n",
       "├─────────────────────────────────┼────────────────────────┼───────────────┤\n",
       "│ dense (\u001b[38;5;33mDense\u001b[0m)                   │ (\u001b[38;5;45mNone\u001b[0m, \u001b[38;5;34m128\u001b[0m)            │       \u001b[38;5;34m692,352\u001b[0m │\n",
       "├─────────────────────────────────┼────────────────────────┼───────────────┤\n",
       "│ dense_1 (\u001b[38;5;33mDense\u001b[0m)                 │ (\u001b[38;5;45mNone\u001b[0m, \u001b[38;5;34m15\u001b[0m)             │         \u001b[38;5;34m1,935\u001b[0m │\n",
       "└─────────────────────────────────┴────────────────────────┴───────────────┘\n"
      ]
     },
     "metadata": {},
     "output_type": "display_data"
    },
    {
     "data": {
      "text/html": [
       "<pre style=\"white-space:pre;overflow-x:auto;line-height:normal;font-family:Menlo,'DejaVu Sans Mono',consolas,'Courier New',monospace\"><span style=\"font-weight: bold\"> Total params: </span><span style=\"color: #00af00; text-decoration-color: #00af00\">694,607</span> (2.65 MB)\n",
       "</pre>\n"
      ],
      "text/plain": [
       "\u001b[1m Total params: \u001b[0m\u001b[38;5;34m694,607\u001b[0m (2.65 MB)\n"
      ]
     },
     "metadata": {},
     "output_type": "display_data"
    },
    {
     "data": {
      "text/html": [
       "<pre style=\"white-space:pre;overflow-x:auto;line-height:normal;font-family:Menlo,'DejaVu Sans Mono',consolas,'Courier New',monospace\"><span style=\"font-weight: bold\"> Trainable params: </span><span style=\"color: #00af00; text-decoration-color: #00af00\">694,607</span> (2.65 MB)\n",
       "</pre>\n"
      ],
      "text/plain": [
       "\u001b[1m Trainable params: \u001b[0m\u001b[38;5;34m694,607\u001b[0m (2.65 MB)\n"
      ]
     },
     "metadata": {},
     "output_type": "display_data"
    },
    {
     "data": {
      "text/html": [
       "<pre style=\"white-space:pre;overflow-x:auto;line-height:normal;font-family:Menlo,'DejaVu Sans Mono',consolas,'Courier New',monospace\"><span style=\"font-weight: bold\"> Non-trainable params: </span><span style=\"color: #00af00; text-decoration-color: #00af00\">0</span> (0.00 B)\n",
       "</pre>\n"
      ],
      "text/plain": [
       "\u001b[1m Non-trainable params: \u001b[0m\u001b[38;5;34m0\u001b[0m (0.00 B)\n"
      ]
     },
     "metadata": {},
     "output_type": "display_data"
    }
   ],
   "source": [
    "import numpy as np\n",
    "from tensorflow.keras.models import Sequential\n",
    "from tensorflow.keras.layers import Dense, Conv2D, MaxPooling2D, Flatten, Dropout, Input\n",
    "\n",
    "\n",
    "def build_model(num_classes):\n",
    "    '''\n",
    "    Создание и компиляция модели сверточной нейронной сети для классификации изображений.\n",
    "\n",
    "    Параметры:\n",
    "        num_classes (int): Количество классов в задаче классификации.\n",
    "\n",
    "    Возвращает:\n",
    "        Sequential: Модель Keras, готовая к обучению.\n",
    "\n",
    "    Описание модели:\n",
    "        1. Input layer: Принимает изображения размером 28x28 пикселей с одним каналом (черно-белые).\n",
    "        2. Conv2D layer: Сверточный слой с 32 фильтрами размером 3x3 и функцией активации ReLU.\n",
    "        3. MaxPooling2D layer: Слой максимального пулинга с размером пула 2x2.\n",
    "        4. Dropout layer: Слой исключения с коэффициентом 0.5 для предотвращения переобучения.\n",
    "        5. Flatten layer: Преобразует многомерные карты признаков в одномерный вектор.\n",
    "        6. Dense layer: Полносвязный слой с 128 нейронами и функцией активации ReLU.\n",
    "        7. Output Dense layer: Выходной полносвязный слой с количеством нейронов, равным количеству классов, и функцией активации Softmax для многоклассовой классификации.\n",
    "\n",
    "    Компиляция модели:\n",
    "        - Оптимизатор: Adam.\n",
    "        - Функция потерь: categorical_crossentropy.\n",
    "        - Метрика: accuracy.\n",
    "    '''\n",
    "    model = Sequential([\n",
    "        Input(shape=(28, 28, 1)),\n",
    "        Conv2D(32, (3, 3), activation='relu'),\n",
    "        MaxPooling2D((2, 2)),\n",
    "        Dropout(0.5),\n",
    "        Flatten(),\n",
    "        Dense(128, activation='relu'),\n",
    "        Dense(num_classes, activation='softmax')\n",
    "    ])\n",
    "\n",
    "    model.compile(optimizer='adam',\n",
    "                  loss='categorical_crossentropy',\n",
    "                  metrics=['accuracy'])\n",
    "    return model\n",
    "\n",
    "\n",
    "# Загрузка данных и меток из файла\n",
    "data = np.load('fonts_dataset.npz')\n",
    "X_train, X_test, y_train, y_test = data['X_train'], data['X_test'], data['y_train'], data['y_test']\n",
    "labels = data['labels']\n",
    "\n",
    "# Определение количества классов (шрифтов)\n",
    "num_classes = len(set(labels))\n",
    "model = build_model(num_classes)\n",
    "\n",
    "# Печать сводки модели\n",
    "model.summary()"
   ]
  },
  {
   "cell_type": "code",
   "execution_count": 2,
   "id": "3ce5e84e",
   "metadata": {},
   "outputs": [
    {
     "name": "stdout",
     "output_type": "stream",
     "text": [
      "Epoch 1/15\n",
      "79/79 - 2s - 20ms/step - accuracy: 0.6157 - loss: 1.2603 - val_accuracy: 0.8427 - val_loss: 0.5592\n",
      "Epoch 2/15\n",
      "79/79 - 1s - 14ms/step - accuracy: 0.8905 - loss: 0.4074 - val_accuracy: 0.9448 - val_loss: 0.2429\n",
      "Epoch 3/15\n",
      "79/79 - 1s - 13ms/step - accuracy: 0.9401 - loss: 0.2295 - val_accuracy: 0.9584 - val_loss: 0.1580\n",
      "Epoch 4/15\n",
      "79/79 - 1s - 14ms/step - accuracy: 0.9613 - loss: 0.1571 - val_accuracy: 0.9744 - val_loss: 0.1065\n",
      "Epoch 5/15\n",
      "79/79 - 1s - 13ms/step - accuracy: 0.9675 - loss: 0.1193 - val_accuracy: 0.9884 - val_loss: 0.0770\n",
      "Epoch 6/15\n",
      "79/79 - 1s - 14ms/step - accuracy: 0.9731 - loss: 0.0970 - val_accuracy: 0.9888 - val_loss: 0.0602\n",
      "Epoch 7/15\n",
      "79/79 - 1s - 13ms/step - accuracy: 0.9799 - loss: 0.0759 - val_accuracy: 0.9884 - val_loss: 0.0523\n",
      "Epoch 8/15\n",
      "79/79 - 1s - 13ms/step - accuracy: 0.9817 - loss: 0.0617 - val_accuracy: 0.9904 - val_loss: 0.0408\n",
      "Epoch 9/15\n",
      "79/79 - 1s - 13ms/step - accuracy: 0.9843 - loss: 0.0552 - val_accuracy: 0.9948 - val_loss: 0.0354\n",
      "Epoch 10/15\n",
      "79/79 - 1s - 14ms/step - accuracy: 0.9867 - loss: 0.0480 - val_accuracy: 0.9944 - val_loss: 0.0380\n",
      "Epoch 11/15\n",
      "79/79 - 1s - 15ms/step - accuracy: 0.9886 - loss: 0.0432 - val_accuracy: 0.9908 - val_loss: 0.0386\n",
      "Epoch 12/15\n",
      "79/79 - 1s - 14ms/step - accuracy: 0.9880 - loss: 0.0417 - val_accuracy: 0.9948 - val_loss: 0.0279\n",
      "Epoch 13/15\n",
      "79/79 - 1s - 14ms/step - accuracy: 0.9911 - loss: 0.0348 - val_accuracy: 0.9952 - val_loss: 0.0263\n",
      "Epoch 14/15\n",
      "79/79 - 1s - 14ms/step - accuracy: 0.9922 - loss: 0.0289 - val_accuracy: 0.9928 - val_loss: 0.0277\n",
      "Epoch 15/15\n",
      "79/79 - 1s - 14ms/step - accuracy: 0.9932 - loss: 0.0272 - val_accuracy: 0.9972 - val_loss: 0.0215\n",
      "Test loss: 0.022, Test accuracy: 0.997\n",
      "\u001b[1m79/79\u001b[0m \u001b[32m━━━━━━━━━━━━━━━━━━━━\u001b[0m\u001b[37m\u001b[0m \u001b[1m0s\u001b[0m 2ms/step\n",
      "Classification Report:\n",
      "              precision    recall  f1-score   support\n",
      "\n",
      "           0       1.00      1.00      1.00       166\n",
      "           1       0.99      1.00      1.00       154\n",
      "           2       1.00      1.00      1.00       166\n",
      "           3       1.00      1.00      1.00       151\n",
      "           4       0.99      1.00      1.00       179\n",
      "           5       1.00      1.00      1.00       176\n",
      "           6       1.00      1.00      1.00       174\n",
      "           7       0.99      1.00      1.00       178\n",
      "           8       1.00      1.00      1.00       171\n",
      "           9       1.00      0.98      0.99       156\n",
      "          10       1.00      1.00      1.00       158\n",
      "          11       1.00      0.99      0.99       170\n",
      "          12       0.99      1.00      1.00       180\n",
      "          13       0.99      1.00      1.00       165\n",
      "          14       0.99      0.99      0.99       155\n",
      "\n",
      "    accuracy                           1.00      2499\n",
      "   macro avg       1.00      1.00      1.00      2499\n",
      "weighted avg       1.00      1.00      1.00      2499\n",
      "\n",
      "Confusion Matrix:\n",
      "[[166   0   0   0   0   0   0   0   0   0   0   0   0   0   0]\n",
      " [  0 154   0   0   0   0   0   0   0   0   0   0   0   0   0]\n",
      " [  0   0 166   0   0   0   0   0   0   0   0   0   0   0   0]\n",
      " [  0   0   0 151   0   0   0   0   0   0   0   0   0   0   0]\n",
      " [  0   0   0   0 179   0   0   0   0   0   0   0   0   0   0]\n",
      " [  0   0   0   0   0 176   0   0   0   0   0   0   0   0   0]\n",
      " [  0   0   0   0   0   0 174   0   0   0   0   0   0   0   0]\n",
      " [  0   0   0   0   0   0   0 178   0   0   0   0   0   0   0]\n",
      " [  0   0   0   0   0   0   0   0 171   0   0   0   0   0   0]\n",
      " [  0   1   0   0   0   0   0   1   0 153   0   0   1   0   0]\n",
      " [  0   0   0   0   0   0   0   0   0   0 158   0   0   0   0]\n",
      " [  0   0   0   0   0   0   0   0   0   0   0 168   0   0   2]\n",
      " [  0   0   0   0   0   0   0   0   0   0   0   0 180   0   0]\n",
      " [  0   0   0   0   0   0   0   0   0   0   0   0   0 165   0]\n",
      " [  0   0   0   0   1   0   0   0   0   0   0   0   0   1 153]]\n"
     ]
    }
   ],
   "source": [
    "import tensorflow as tf\n",
    "from tensorflow.keras.optimizers import Adam\n",
    "from tensorflow.keras.utils import to_categorical\n",
    "from sklearn.preprocessing import LabelEncoder\n",
    "import matplotlib.pyplot as plt\n",
    "import pandas as pd\n",
    "import pickle\n",
    "from sklearn.metrics import classification_report, confusion_matrix\n",
    "\n",
    "\n",
    "def train_model(model, X_train, y_train, X_test, y_test, epochs=15, batch_size=128):\n",
    "    '''Обучение модели и вывод основных метрик классификации'''\n",
    "    \n",
    "    history = model.fit(X_train, y_train, epochs=epochs, batch_size=batch_size,\n",
    "                        validation_data=(X_test, y_test), verbose=2)\n",
    "    \n",
    "    # Логгирование результатов в DataFrame\n",
    "    history_df = pd.DataFrame(history.history)\n",
    "    history_df.to_csv('training_log.csv', index=False)\n",
    "\n",
    "    # Оценка модели\n",
    "    loss, accuracy = model.evaluate(X_test, y_test, verbose=0)\n",
    "    print(f\"Test loss: {loss:.3f}, Test accuracy: {accuracy:.3f}\")\n",
    "    \n",
    "    # Предсказание классов для тестовых данных\n",
    "    y_pred = np.argmax(model.predict(X_test), axis=1)\n",
    "\n",
    "    # Вывод отчета о классификации и матрицы ошибок\n",
    "    print(\"Classification Report:\")\n",
    "    print(classification_report(y_test_encoded, y_pred))\n",
    "\n",
    "    print(\"Confusion Matrix:\")\n",
    "    print(confusion_matrix(y_test_encoded, y_pred))\n",
    "    \n",
    "    model.save(\"font_recognition_model.keras\")\n",
    "\n",
    "    return model\n",
    "\n",
    "\n",
    "# Подготовка данных\n",
    "label_encoder = LabelEncoder()\n",
    "y_train_encoded = label_encoder.fit_transform(y_train.ravel())\n",
    "y_test_encoded = label_encoder.transform(y_test.ravel())\n",
    "y_train_onehot = to_categorical(y_train_encoded, num_classes)\n",
    "y_test_onehot = to_categorical(y_test_encoded, num_classes)\n",
    "\n",
    "with open('label_encoder.pkl', 'wb') as file:\n",
    "    pickle.dump(label_encoder, file)\n",
    "    \n",
    "# Нормализация данных\n",
    "X_train_normalized = X_train.astype('float32') / 255.0\n",
    "X_test_normalized = X_test.astype('float32') / 255.0\n",
    "X_train_normalized = np.expand_dims(X_train_normalized, axis=-1)\n",
    "X_test_normalized = np.expand_dims(X_test_normalized, axis=-1)\n",
    "\n",
    "# Обучение модели\n",
    "model = train_model(model, X_train_normalized, y_train_onehot, X_test_normalized, y_test_onehot)"
   ]
  },
  {
   "cell_type": "code",
   "execution_count": null,
   "id": "42d7a5cd",
   "metadata": {},
   "outputs": [],
   "source": []
  }
 ],
 "metadata": {
  "kernelspec": {
   "display_name": "Python 3 (ipykernel)",
   "language": "python",
   "name": "python3"
  },
  "language_info": {
   "codemirror_mode": {
    "name": "ipython",
    "version": 3
   },
   "file_extension": ".py",
   "mimetype": "text/x-python",
   "name": "python",
   "nbconvert_exporter": "python",
   "pygments_lexer": "ipython3",
   "version": "3.11.3"
  }
 },
 "nbformat": 4,
 "nbformat_minor": 5
}
