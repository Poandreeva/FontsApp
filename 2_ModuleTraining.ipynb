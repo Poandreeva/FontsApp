{
 "cells": [
  {
   "cell_type": "code",
   "execution_count": 1,
   "id": "d5658de4",
   "metadata": {},
   "outputs": [
    {
     "data": {
      "text/html": [
       "<pre style=\"white-space:pre;overflow-x:auto;line-height:normal;font-family:Menlo,'DejaVu Sans Mono',consolas,'Courier New',monospace\"><span style=\"font-weight: bold\">Model: \"sequential\"</span>\n",
       "</pre>\n"
      ],
      "text/plain": [
       "\u001b[1mModel: \"sequential\"\u001b[0m\n"
      ]
     },
     "metadata": {},
     "output_type": "display_data"
    },
    {
     "data": {
      "text/html": [
       "<pre style=\"white-space:pre;overflow-x:auto;line-height:normal;font-family:Menlo,'DejaVu Sans Mono',consolas,'Courier New',monospace\">┏━━━━━━━━━━━━━━━━━━━━━━━━━━━━━━━━━┳━━━━━━━━━━━━━━━━━━━━━━━━┳━━━━━━━━━━━━━━━┓\n",
       "┃<span style=\"font-weight: bold\"> Layer (type)                    </span>┃<span style=\"font-weight: bold\"> Output Shape           </span>┃<span style=\"font-weight: bold\">       Param # </span>┃\n",
       "┡━━━━━━━━━━━━━━━━━━━━━━━━━━━━━━━━━╇━━━━━━━━━━━━━━━━━━━━━━━━╇━━━━━━━━━━━━━━━┩\n",
       "│ conv2d (<span style=\"color: #0087ff; text-decoration-color: #0087ff\">Conv2D</span>)                 │ (<span style=\"color: #00d7ff; text-decoration-color: #00d7ff\">None</span>, <span style=\"color: #00af00; text-decoration-color: #00af00\">26</span>, <span style=\"color: #00af00; text-decoration-color: #00af00\">26</span>, <span style=\"color: #00af00; text-decoration-color: #00af00\">32</span>)     │           <span style=\"color: #00af00; text-decoration-color: #00af00\">320</span> │\n",
       "├─────────────────────────────────┼────────────────────────┼───────────────┤\n",
       "│ max_pooling2d (<span style=\"color: #0087ff; text-decoration-color: #0087ff\">MaxPooling2D</span>)    │ (<span style=\"color: #00d7ff; text-decoration-color: #00d7ff\">None</span>, <span style=\"color: #00af00; text-decoration-color: #00af00\">13</span>, <span style=\"color: #00af00; text-decoration-color: #00af00\">13</span>, <span style=\"color: #00af00; text-decoration-color: #00af00\">32</span>)     │             <span style=\"color: #00af00; text-decoration-color: #00af00\">0</span> │\n",
       "├─────────────────────────────────┼────────────────────────┼───────────────┤\n",
       "│ dropout (<span style=\"color: #0087ff; text-decoration-color: #0087ff\">Dropout</span>)               │ (<span style=\"color: #00d7ff; text-decoration-color: #00d7ff\">None</span>, <span style=\"color: #00af00; text-decoration-color: #00af00\">13</span>, <span style=\"color: #00af00; text-decoration-color: #00af00\">13</span>, <span style=\"color: #00af00; text-decoration-color: #00af00\">32</span>)     │             <span style=\"color: #00af00; text-decoration-color: #00af00\">0</span> │\n",
       "├─────────────────────────────────┼────────────────────────┼───────────────┤\n",
       "│ flatten (<span style=\"color: #0087ff; text-decoration-color: #0087ff\">Flatten</span>)               │ (<span style=\"color: #00d7ff; text-decoration-color: #00d7ff\">None</span>, <span style=\"color: #00af00; text-decoration-color: #00af00\">5408</span>)           │             <span style=\"color: #00af00; text-decoration-color: #00af00\">0</span> │\n",
       "├─────────────────────────────────┼────────────────────────┼───────────────┤\n",
       "│ dense (<span style=\"color: #0087ff; text-decoration-color: #0087ff\">Dense</span>)                   │ (<span style=\"color: #00d7ff; text-decoration-color: #00d7ff\">None</span>, <span style=\"color: #00af00; text-decoration-color: #00af00\">300</span>)            │     <span style=\"color: #00af00; text-decoration-color: #00af00\">1,622,700</span> │\n",
       "├─────────────────────────────────┼────────────────────────┼───────────────┤\n",
       "│ dropout_1 (<span style=\"color: #0087ff; text-decoration-color: #0087ff\">Dropout</span>)             │ (<span style=\"color: #00d7ff; text-decoration-color: #00d7ff\">None</span>, <span style=\"color: #00af00; text-decoration-color: #00af00\">300</span>)            │             <span style=\"color: #00af00; text-decoration-color: #00af00\">0</span> │\n",
       "├─────────────────────────────────┼────────────────────────┼───────────────┤\n",
       "│ dense_1 (<span style=\"color: #0087ff; text-decoration-color: #0087ff\">Dense</span>)                 │ (<span style=\"color: #00d7ff; text-decoration-color: #00d7ff\">None</span>, <span style=\"color: #00af00; text-decoration-color: #00af00\">15</span>)             │         <span style=\"color: #00af00; text-decoration-color: #00af00\">4,515</span> │\n",
       "└─────────────────────────────────┴────────────────────────┴───────────────┘\n",
       "</pre>\n"
      ],
      "text/plain": [
       "┏━━━━━━━━━━━━━━━━━━━━━━━━━━━━━━━━━┳━━━━━━━━━━━━━━━━━━━━━━━━┳━━━━━━━━━━━━━━━┓\n",
       "┃\u001b[1m \u001b[0m\u001b[1mLayer (type)                   \u001b[0m\u001b[1m \u001b[0m┃\u001b[1m \u001b[0m\u001b[1mOutput Shape          \u001b[0m\u001b[1m \u001b[0m┃\u001b[1m \u001b[0m\u001b[1m      Param #\u001b[0m\u001b[1m \u001b[0m┃\n",
       "┡━━━━━━━━━━━━━━━━━━━━━━━━━━━━━━━━━╇━━━━━━━━━━━━━━━━━━━━━━━━╇━━━━━━━━━━━━━━━┩\n",
       "│ conv2d (\u001b[38;5;33mConv2D\u001b[0m)                 │ (\u001b[38;5;45mNone\u001b[0m, \u001b[38;5;34m26\u001b[0m, \u001b[38;5;34m26\u001b[0m, \u001b[38;5;34m32\u001b[0m)     │           \u001b[38;5;34m320\u001b[0m │\n",
       "├─────────────────────────────────┼────────────────────────┼───────────────┤\n",
       "│ max_pooling2d (\u001b[38;5;33mMaxPooling2D\u001b[0m)    │ (\u001b[38;5;45mNone\u001b[0m, \u001b[38;5;34m13\u001b[0m, \u001b[38;5;34m13\u001b[0m, \u001b[38;5;34m32\u001b[0m)     │             \u001b[38;5;34m0\u001b[0m │\n",
       "├─────────────────────────────────┼────────────────────────┼───────────────┤\n",
       "│ dropout (\u001b[38;5;33mDropout\u001b[0m)               │ (\u001b[38;5;45mNone\u001b[0m, \u001b[38;5;34m13\u001b[0m, \u001b[38;5;34m13\u001b[0m, \u001b[38;5;34m32\u001b[0m)     │             \u001b[38;5;34m0\u001b[0m │\n",
       "├─────────────────────────────────┼────────────────────────┼───────────────┤\n",
       "│ flatten (\u001b[38;5;33mFlatten\u001b[0m)               │ (\u001b[38;5;45mNone\u001b[0m, \u001b[38;5;34m5408\u001b[0m)           │             \u001b[38;5;34m0\u001b[0m │\n",
       "├─────────────────────────────────┼────────────────────────┼───────────────┤\n",
       "│ dense (\u001b[38;5;33mDense\u001b[0m)                   │ (\u001b[38;5;45mNone\u001b[0m, \u001b[38;5;34m300\u001b[0m)            │     \u001b[38;5;34m1,622,700\u001b[0m │\n",
       "├─────────────────────────────────┼────────────────────────┼───────────────┤\n",
       "│ dropout_1 (\u001b[38;5;33mDropout\u001b[0m)             │ (\u001b[38;5;45mNone\u001b[0m, \u001b[38;5;34m300\u001b[0m)            │             \u001b[38;5;34m0\u001b[0m │\n",
       "├─────────────────────────────────┼────────────────────────┼───────────────┤\n",
       "│ dense_1 (\u001b[38;5;33mDense\u001b[0m)                 │ (\u001b[38;5;45mNone\u001b[0m, \u001b[38;5;34m15\u001b[0m)             │         \u001b[38;5;34m4,515\u001b[0m │\n",
       "└─────────────────────────────────┴────────────────────────┴───────────────┘\n"
      ]
     },
     "metadata": {},
     "output_type": "display_data"
    },
    {
     "data": {
      "text/html": [
       "<pre style=\"white-space:pre;overflow-x:auto;line-height:normal;font-family:Menlo,'DejaVu Sans Mono',consolas,'Courier New',monospace\"><span style=\"font-weight: bold\"> Total params: </span><span style=\"color: #00af00; text-decoration-color: #00af00\">1,627,535</span> (6.21 MB)\n",
       "</pre>\n"
      ],
      "text/plain": [
       "\u001b[1m Total params: \u001b[0m\u001b[38;5;34m1,627,535\u001b[0m (6.21 MB)\n"
      ]
     },
     "metadata": {},
     "output_type": "display_data"
    },
    {
     "data": {
      "text/html": [
       "<pre style=\"white-space:pre;overflow-x:auto;line-height:normal;font-family:Menlo,'DejaVu Sans Mono',consolas,'Courier New',monospace\"><span style=\"font-weight: bold\"> Trainable params: </span><span style=\"color: #00af00; text-decoration-color: #00af00\">1,627,535</span> (6.21 MB)\n",
       "</pre>\n"
      ],
      "text/plain": [
       "\u001b[1m Trainable params: \u001b[0m\u001b[38;5;34m1,627,535\u001b[0m (6.21 MB)\n"
      ]
     },
     "metadata": {},
     "output_type": "display_data"
    },
    {
     "data": {
      "text/html": [
       "<pre style=\"white-space:pre;overflow-x:auto;line-height:normal;font-family:Menlo,'DejaVu Sans Mono',consolas,'Courier New',monospace\"><span style=\"font-weight: bold\"> Non-trainable params: </span><span style=\"color: #00af00; text-decoration-color: #00af00\">0</span> (0.00 B)\n",
       "</pre>\n"
      ],
      "text/plain": [
       "\u001b[1m Non-trainable params: \u001b[0m\u001b[38;5;34m0\u001b[0m (0.00 B)\n"
      ]
     },
     "metadata": {},
     "output_type": "display_data"
    }
   ],
   "source": [
    "import numpy as np\n",
    "from tensorflow.keras.models import Sequential\n",
    "from tensorflow.keras.layers import Input, Conv2D, MaxPooling2D, Flatten, Dense, Dropout\n",
    "\n",
    "\n",
    "def build_model(num_classes):\n",
    "    \n",
    "    model = Sequential([\n",
    "        Input(shape = (28, 28, 1)),\n",
    "        Conv2D(32, (3, 3), activation = 'relu'),\n",
    "        MaxPooling2D((2, 2)),\n",
    "        Dropout(0.25),\n",
    "        Flatten(),\n",
    "        Dense(300, activation = 'relu'),\n",
    "        Dropout(0.25),\n",
    "        Dense(num_classes, activation = 'softmax')\n",
    "    ])\n",
    "\n",
    "    # 'categorical_crossentropy' используется для многоклассовой классификации\n",
    "    # 'accuracy' используется для оценки процента правильно классифицированных изображений\n",
    "    model.compile(optimizer = 'adam', loss = 'categorical_crossentropy', metrics = ['accuracy'])\n",
    "\n",
    "    return model\n",
    "\n",
    "\n",
    "data = np.load('fonts_dataset.npz')\n",
    "X_train, X_test, y_train, y_test = data['X_train'], data['X_test'], data['y_train'], data['y_test']\n",
    "labels = data['labels']\n",
    "num_classes = len(set(labels))\n",
    "model = build_model(num_classes)\n",
    "\n",
    "model.summary()"
   ]
  },
  {
   "cell_type": "code",
   "execution_count": 2,
   "id": "3ce5e84e",
   "metadata": {
    "scrolled": false
   },
   "outputs": [
    {
     "name": "stdout",
     "output_type": "stream",
     "text": [
      "Epoch 1/12\n",
      "253/253 - 6s - 24ms/step - accuracy: 0.7856 - loss: 0.6974 - val_accuracy: 0.9253 - val_loss: 0.2595\n",
      "Epoch 2/12\n",
      "253/253 - 5s - 22ms/step - accuracy: 0.9266 - loss: 0.2371 - val_accuracy: 0.9473 - val_loss: 0.1728\n",
      "Epoch 3/12\n",
      "253/253 - 5s - 21ms/step - accuracy: 0.9485 - loss: 0.1658 - val_accuracy: 0.9625 - val_loss: 0.1241\n",
      "Epoch 4/12\n",
      "253/253 - 5s - 21ms/step - accuracy: 0.9582 - loss: 0.1313 - val_accuracy: 0.9702 - val_loss: 0.1006\n",
      "Epoch 5/12\n",
      "253/253 - 5s - 21ms/step - accuracy: 0.9649 - loss: 0.1090 - val_accuracy: 0.9708 - val_loss: 0.0902\n",
      "Epoch 6/12\n",
      "253/253 - 5s - 21ms/step - accuracy: 0.9690 - loss: 0.0947 - val_accuracy: 0.9750 - val_loss: 0.0785\n",
      "Epoch 7/12\n",
      "253/253 - 6s - 22ms/step - accuracy: 0.9717 - loss: 0.0835 - val_accuracy: 0.9768 - val_loss: 0.0733\n",
      "Epoch 8/12\n",
      "253/253 - 5s - 21ms/step - accuracy: 0.9738 - loss: 0.0770 - val_accuracy: 0.9776 - val_loss: 0.0677\n",
      "Epoch 9/12\n",
      "253/253 - 5s - 21ms/step - accuracy: 0.9759 - loss: 0.0703 - val_accuracy: 0.9781 - val_loss: 0.0649\n",
      "Epoch 10/12\n",
      "253/253 - 5s - 22ms/step - accuracy: 0.9777 - loss: 0.0652 - val_accuracy: 0.9797 - val_loss: 0.0606\n",
      "Epoch 11/12\n",
      "253/253 - 5s - 21ms/step - accuracy: 0.9779 - loss: 0.0620 - val_accuracy: 0.9786 - val_loss: 0.0628\n",
      "Epoch 12/12\n",
      "253/253 - 5s - 21ms/step - accuracy: 0.9799 - loss: 0.0580 - val_accuracy: 0.9803 - val_loss: 0.0581\n",
      "Test loss: 0.057, Test accuracy: 0.980\n",
      "\u001b[1m435/435\u001b[0m \u001b[32m━━━━━━━━━━━━━━━━━━━━\u001b[0m\u001b[37m\u001b[0m \u001b[1m1s\u001b[0m 2ms/step\n",
      "Classification Report:\n",
      "              precision    recall  f1-score   support\n",
      "\n",
      "           0       1.00      1.00      1.00       865\n",
      "           1       0.99      0.99      0.99       929\n",
      "           2       0.97      0.99      0.98       935\n",
      "           3       0.98      0.92      0.95       979\n",
      "           4       0.92      0.97      0.94       917\n",
      "           5       0.99      0.96      0.98       886\n",
      "           6       0.98      0.99      0.99       874\n",
      "           7       0.99      0.98      0.99       933\n",
      "           8       0.94      0.98      0.96       889\n",
      "           9       1.00      0.99      1.00       910\n",
      "          10       0.98      1.00      0.99       890\n",
      "          11       1.00      0.98      0.99       875\n",
      "          12       0.99      0.99      0.99       997\n",
      "          13       0.98      0.97      0.98      1080\n",
      "          14       0.99      0.99      0.99       947\n",
      "\n",
      "    accuracy                           0.98     13906\n",
      "   macro avg       0.98      0.98      0.98     13906\n",
      "weighted avg       0.98      0.98      0.98     13906\n",
      "\n",
      "Confusion Matrix:\n",
      "[[ 864    0    1    0    0    0    0    0    0    0    0    0    0    0\n",
      "     0]\n",
      " [   0  918   11    0    0    0    0    0    0    0    0    0    0    0\n",
      "     0]\n",
      " [   0    3  928    1    0    0    0    0    0    0    0    0    0    3\n",
      "     0]\n",
      " [   0    1    1  900   60    1    1    0    3    0    2    0    3    7\n",
      "     0]\n",
      " [   0    1    1   12  888    0    0    0    7    0    3    0    3    2\n",
      "     0]\n",
      " [   1    0    0    0    0  852    1    0   30    0    0    1    0    1\n",
      "     0]\n",
      " [   0    0    1    0    0    0  867    5    0    0    0    0    0    1\n",
      "     0]\n",
      " [   0    0    2    0    3    1   10  913    2    0    0    0    1    1\n",
      "     0]\n",
      " [   0    0    4    3    3    1    1    1  873    1    0    0    1    1\n",
      "     0]\n",
      " [   0    0    0    0    0    0    2    0    1  905    2    0    0    0\n",
      "     0]\n",
      " [   0    0    0    0    0    0    0    0    0    0  890    0    0    0\n",
      "     0]\n",
      " [   0    0    3    4    1    0    0    0    0    0    0  861    0    2\n",
      "     4]\n",
      " [   0    0    0    1    1    0    0    0    0    0    9    0  985    1\n",
      "     0]\n",
      " [   0    0    1    1    7    2    1    0   10    0    1    0    2 1053\n",
      "     2]\n",
      " [   0    0    0    0    0    3    0    0    4    0    0    3    0    2\n",
      "   935]]\n"
     ]
    }
   ],
   "source": [
    "import tensorflow as tf\n",
    "from tensorflow.keras.optimizers import Adam\n",
    "from tensorflow.keras.utils import to_categorical\n",
    "from sklearn.preprocessing import LabelEncoder\n",
    "import matplotlib.pyplot as plt\n",
    "import pandas as pd\n",
    "import pickle\n",
    "from sklearn.metrics import classification_report, confusion_matrix\n",
    "\n",
    "\n",
    "'Обучение модели и вывод основных метрик классификации'\n",
    "def train_model(model, X_train, y_train, X_test, y_test, epochs=12, batch_size=220):\n",
    "    \n",
    "    history = model.fit(X_train, y_train, epochs=epochs, batch_size=batch_size,\n",
    "                        validation_data=(X_test, y_test), verbose=2)\n",
    "    \n",
    "    # Логгирование результатов\n",
    "    history_df = pd.DataFrame(history.history)\n",
    "    history_df.to_csv('training_log.csv', index=False)\n",
    "\n",
    "    loss, accuracy = model.evaluate(X_test, y_test, verbose=0)\n",
    "    print(f\"Test loss: {loss:.3f}, Test accuracy: {accuracy:.3f}\")\n",
    "    \n",
    "    y_pred = np.argmax(model.predict(X_test), axis=1)\n",
    "\n",
    "    print(\"Classification Report:\")\n",
    "    print(classification_report(y_test_encoded, y_pred))\n",
    "    \n",
    "    print(\"Confusion Matrix:\")\n",
    "    print(confusion_matrix(y_test_encoded, y_pred))\n",
    "    \n",
    "    model.save(\"font_recognition_model.keras\")\n",
    "\n",
    "    return model\n",
    "\n",
    "\n",
    "label_encoder = LabelEncoder()\n",
    "y_train_encoded = label_encoder.fit_transform(y_train.ravel())\n",
    "y_test_encoded = label_encoder.transform(y_test.ravel())\n",
    "y_train_onehot = to_categorical(y_train_encoded, num_classes)\n",
    "y_test_onehot = to_categorical(y_test_encoded, num_classes)\n",
    "\n",
    "# Сохранение данных кодировщика меток\n",
    "with open('label_encoder.pkl', 'wb') as file:\n",
    "    pickle.dump(label_encoder, file)\n",
    "    \n",
    "X_train_normalized = X_train.astype('float32') / 255.0\n",
    "X_test_normalized = X_test.astype('float32') / 255.0\n",
    "X_train_normalized = np.expand_dims(X_train_normalized, axis=-1)\n",
    "X_test_normalized = np.expand_dims(X_test_normalized, axis=-1)\n",
    "\n",
    "model = train_model(model, X_train_normalized, y_train_onehot, X_test_normalized, y_test_onehot)"
   ]
  }
 ],
 "metadata": {
  "kernelspec": {
   "display_name": "Python 3 (ipykernel)",
   "language": "python",
   "name": "python3"
  },
  "language_info": {
   "codemirror_mode": {
    "name": "ipython",
    "version": 3
   },
   "file_extension": ".py",
   "mimetype": "text/x-python",
   "name": "python",
   "nbconvert_exporter": "python",
   "pygments_lexer": "ipython3",
   "version": "3.11.3"
  }
 },
 "nbformat": 4,
 "nbformat_minor": 5
}
